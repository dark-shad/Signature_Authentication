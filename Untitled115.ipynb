{
 "cells": [
  {
   "cell_type": "code",
   "execution_count": 3,
   "id": "269e0d4c",
   "metadata": {},
   "outputs": [],
   "source": [
    "import numpy as np\n",
    "import pandas as pd\n",
    "import os\n",
    "import glob\n",
    "import cv2\n",
    "import tensorflow\n",
    "from tensorflow.keras.utils import to_categorical\n",
    "import keras\n",
    "from keras.layers import Input, Dense, Activation,BatchNormalization, Flatten, Conv2D, MaxPooling2D\n",
    "from keras.models import Model\n",
    "from tensorflow.keras.optimizers import Adam\n",
    "import matplotlib.pyplot as plt"
   ]
  },
  {
   "cell_type": "code",
   "execution_count": 2,
   "id": "3d952c16",
   "metadata": {},
   "outputs": [],
   "source": [
    "train_dir='C:/Users/Dell/Downloads/archive (6)/sign_data/sign_data/train/'\n",
    "test_dir='C:/Users/Dell/Downloads/archive (6)/sign_data/sign_data/test/'"
   ]
  },
  {
   "cell_type": "code",
   "execution_count": 5,
   "id": "7c546783",
   "metadata": {},
   "outputs": [],
   "source": [
    "SIZE=224\n",
    "train_data=[]\n",
    "train_labels=[]\n",
    "for a in os.listdir('C:/Users/Dell/Downloads/archive (6)/sign_data/sign_data/train/'):\n",
    "    for b in glob.glob('C:/Users/Dell/Downloads/archive (6)/sign_data/sign_data/train/'+a+'/*.*'):\n",
    "        img = cv2.imread(b)\n",
    "        img = cv2.cvtColor(img, cv2.COLOR_BGR2RGB)\n",
    "        img = cv2.resize(img, (SIZE,SIZE))\n",
    "        train_data.append([img])\n",
    "        if a[-1]=='g':\n",
    "            train_labels.append(np.array(1))\n",
    "        else:\n",
    "            train_labels.append(np.array(0))"
   ]
  },
  {
   "cell_type": "code",
   "execution_count": 6,
   "id": "5746075d",
   "metadata": {},
   "outputs": [],
   "source": [
    "train_data=np.array(train_data)/255.0"
   ]
  },
  {
   "cell_type": "code",
   "execution_count": 7,
   "id": "9a0afd47",
   "metadata": {},
   "outputs": [],
   "source": [
    "train_labels=np.array(train_labels)"
   ]
  },
  {
   "cell_type": "code",
   "execution_count": 8,
   "id": "1e19ca95",
   "metadata": {},
   "outputs": [
    {
     "data": {
      "text/plain": [
       "(1649, 1, 224, 224, 3)"
      ]
     },
     "execution_count": 8,
     "metadata": {},
     "output_type": "execute_result"
    }
   ],
   "source": [
    "train_labels = to_categorical(train_labels)\n",
    "train_data.shape"
   ]
  },
  {
   "cell_type": "code",
   "execution_count": 9,
   "id": "02222710",
   "metadata": {},
   "outputs": [],
   "source": [
    "train_data = train_data.reshape(-1, SIZE,SIZE, 3)"
   ]
  },
  {
   "cell_type": "code",
   "execution_count": 10,
   "id": "0f9bf580",
   "metadata": {},
   "outputs": [
    {
     "data": {
      "text/plain": [
       "(1649, 224, 224, 3)"
      ]
     },
     "execution_count": 10,
     "metadata": {},
     "output_type": "execute_result"
    }
   ],
   "source": [
    "train_data.shape"
   ]
  },
  {
   "cell_type": "code",
   "execution_count": 11,
   "id": "a0e630aa",
   "metadata": {},
   "outputs": [
    {
     "data": {
      "text/plain": [
       "(1649, 2)"
      ]
     },
     "execution_count": 11,
     "metadata": {},
     "output_type": "execute_result"
    }
   ],
   "source": [
    "train_labels.shape"
   ]
  },
  {
   "cell_type": "code",
   "execution_count": 12,
   "id": "7f2db412",
   "metadata": {},
   "outputs": [],
   "source": [
    "def AlexNet(input_shape):\n",
    "    \n",
    "    X_input = Input(input_shape)\n",
    "    \n",
    "    X = Conv2D(96,(11,11),strides = 4,name=\"conv0\")(X_input)\n",
    "    X = BatchNormalization(axis = 3 , name = \"bn0\")(X)\n",
    "    X = Activation('relu')(X)\n",
    "    \n",
    "    X = MaxPooling2D((3,3),strides = 2,name = 'max0')(X)\n",
    "    \n",
    "    X = Conv2D(256,(5,5),padding = 'same' , name = 'conv1')(X)\n",
    "    X = BatchNormalization(axis = 3 ,name='bn1')(X)\n",
    "    X = Activation('relu')(X)\n",
    "    \n",
    "    X = MaxPooling2D((3,3),strides = 2,name = 'max1')(X)\n",
    "    \n",
    "    X = Conv2D(384, (3,3) , padding = 'same' , name='conv2')(X)\n",
    "    X = BatchNormalization(axis = 3, name = 'bn2')(X)\n",
    "    X = Activation('relu')(X)\n",
    "    \n",
    "    X = Conv2D(384, (3,3) , padding = 'same' , name='conv3')(X)\n",
    "    X = BatchNormalization(axis = 3, name = 'bn3')(X)\n",
    "    X = Activation('relu')(X)\n",
    "    \n",
    "    X = Conv2D(256, (3,3) , padding = 'same' , name='conv4')(X)\n",
    "    X = BatchNormalization(axis = 3, name = 'bn4')(X)\n",
    "    X = Activation('relu')(X)\n",
    "    \n",
    "    X = MaxPooling2D((3,3),strides = 2,name = 'max2')(X)\n",
    "    \n",
    "    X = Flatten()(X)\n",
    "    \n",
    "    X = Dense(4096, activation = 'relu', name = \"fc0\")(X)\n",
    "    \n",
    "    X = Dense(4096, activation = 'relu', name = 'fc1')(X) \n",
    "    \n",
    "    X = Dense(6,activation='softmax',name = 'fc2')(X)\n",
    "    \n",
    "    model = Model(inputs = X_input, outputs = X, name='AlexNet')\n",
    "    return model"
   ]
  },
  {
   "cell_type": "code",
   "execution_count": 13,
   "id": "8e75af81",
   "metadata": {},
   "outputs": [],
   "source": [
    "X_input=(224,224,3)"
   ]
  },
  {
   "cell_type": "code",
   "execution_count": 14,
   "id": "2db35ca1",
   "metadata": {},
   "outputs": [],
   "source": [
    "model=AlexNet(X_input)"
   ]
  },
  {
   "cell_type": "code",
   "execution_count": 15,
   "id": "e0c33243",
   "metadata": {},
   "outputs": [
    {
     "name": "stdout",
     "output_type": "stream",
     "text": [
      "Model: \"AlexNet\"\n",
      "_________________________________________________________________\n",
      " Layer (type)                Output Shape              Param #   \n",
      "=================================================================\n",
      " input_1 (InputLayer)        [(None, 224, 224, 3)]     0         \n",
      "                                                                 \n",
      " conv0 (Conv2D)              (None, 54, 54, 96)        34944     \n",
      "                                                                 \n",
      " bn0 (BatchNormalization)    (None, 54, 54, 96)        384       \n",
      "                                                                 \n",
      " activation (Activation)     (None, 54, 54, 96)        0         \n",
      "                                                                 \n",
      " max0 (MaxPooling2D)         (None, 26, 26, 96)        0         \n",
      "                                                                 \n",
      " conv1 (Conv2D)              (None, 26, 26, 256)       614656    \n",
      "                                                                 \n",
      " bn1 (BatchNormalization)    (None, 26, 26, 256)       1024      \n",
      "                                                                 \n",
      " activation_1 (Activation)   (None, 26, 26, 256)       0         \n",
      "                                                                 \n",
      " max1 (MaxPooling2D)         (None, 12, 12, 256)       0         \n",
      "                                                                 \n",
      " conv2 (Conv2D)              (None, 12, 12, 384)       885120    \n",
      "                                                                 \n",
      " bn2 (BatchNormalization)    (None, 12, 12, 384)       1536      \n",
      "                                                                 \n",
      " activation_2 (Activation)   (None, 12, 12, 384)       0         \n",
      "                                                                 \n",
      " conv3 (Conv2D)              (None, 12, 12, 384)       1327488   \n",
      "                                                                 \n",
      " bn3 (BatchNormalization)    (None, 12, 12, 384)       1536      \n",
      "                                                                 \n",
      " activation_3 (Activation)   (None, 12, 12, 384)       0         \n",
      "                                                                 \n",
      " conv4 (Conv2D)              (None, 12, 12, 256)       884992    \n",
      "                                                                 \n",
      " bn4 (BatchNormalization)    (None, 12, 12, 256)       1024      \n",
      "                                                                 \n",
      " activation_4 (Activation)   (None, 12, 12, 256)       0         \n",
      "                                                                 \n",
      " max2 (MaxPooling2D)         (None, 5, 5, 256)         0         \n",
      "                                                                 \n",
      " flatten (Flatten)           (None, 6400)              0         \n",
      "                                                                 \n",
      " fc0 (Dense)                 (None, 4096)              26218496  \n",
      "                                                                 \n",
      " fc1 (Dense)                 (None, 4096)              16781312  \n",
      "                                                                 \n",
      " fc2 (Dense)                 (None, 6)                 24582     \n",
      "                                                                 \n",
      "=================================================================\n",
      "Total params: 46,777,094\n",
      "Trainable params: 46,774,342\n",
      "Non-trainable params: 2,752\n",
      "_________________________________________________________________\n"
     ]
    }
   ],
   "source": [
    "model.summary()"
   ]
  },
  {
   "cell_type": "code",
   "execution_count": 16,
   "id": "eb5f72d0",
   "metadata": {},
   "outputs": [
    {
     "name": "stderr",
     "output_type": "stream",
     "text": [
      "c:\\users\\dell\\appdata\\local\\programs\\python\\python38\\lib\\site-packages\\keras\\optimizer_v2\\adam.py:105: UserWarning: The `lr` argument is deprecated, use `learning_rate` instead.\n",
      "  super(Adam, self).__init__(name, **kwargs)\n"
     ]
    }
   ],
   "source": [
    "model.compile(loss='categorical_crossentropy', optimizer=tensorflow.keras.optimizers.Adam(lr=1e-4),\n",
    "              metrics=['accuracy'])"
   ]
  },
  {
   "cell_type": "code",
   "execution_count": null,
   "id": "1fd6feb5",
   "metadata": {},
   "outputs": [],
   "source": [
    "history = model.fit(train_data,\n",
    "                    train_labels, \n",
    "                    batch_size=64,\n",
    "                    epochs=20, \n",
    "                    validation_split=.3)"
   ]
  }
 ],
 "metadata": {
  "kernelspec": {
   "display_name": "Python 3.10.6 64-bit (windows store)",
   "language": "python",
   "name": "python3"
  },
  "language_info": {
   "codemirror_mode": {
    "name": "ipython",
    "version": 3
   },
   "file_extension": ".py",
   "mimetype": "text/x-python",
   "name": "python",
   "nbconvert_exporter": "python",
   "pygments_lexer": "ipython3",
   "version": "3.10.6"
  },
  "vscode": {
   "interpreter": {
    "hash": "f9594b17a832683621663d404b4f97a3dbc62bb9bcd9bf3e86cb0146af66b630"
   }
  }
 },
 "nbformat": 4,
 "nbformat_minor": 5
}
